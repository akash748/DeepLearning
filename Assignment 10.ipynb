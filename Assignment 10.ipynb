{
 "cells": [
  {
   "cell_type": "markdown",
   "id": "df00cffb",
   "metadata": {},
   "source": [
    "Question 1: What does a SavedModel contain? How do you inspect its content?"
   ]
  },
  {
   "cell_type": "markdown",
   "id": "52dd578a",
   "metadata": {},
   "source": [
    "The saved model contains\n",
    "not just the graph itself, but the entire bundle (directory), and\n",
    "then obtains the graph from the bundle. Additionally, it is possi‐\n",
    "ble to extract the method signature (as a protobuf definition)\n",
    "and parse it to get inputs and output for your method of execu‐\n",
    "tion. Keep in mind that, in general, the graph read from the\n",
    "bundle can contain multiple signatures, so it is necessary to pick\n",
    "the appropriate signature by name."
   ]
  },
  {
   "cell_type": "markdown",
   "id": "13c2dce0",
   "metadata": {},
   "source": [
    "Question 2: When should you use TF Serving? What are its main features? What are some tools you can use to deploy it?"
   ]
  },
  {
   "cell_type": "markdown",
   "id": "87df3103",
   "metadata": {},
   "source": [
    "TensorFlow Serving (TFS) is a framework specifically designed for running ML models in a production environment. Since scoring test data over the internet (or using Internet Protocol in a virtual private network) is arguably the most common model-serving scenario, there needs to be an HTTP or HTTPS endpoint that serves as the “front door” to the model. The client program, which will pass test data to the model, needs to communicate with the model’s endpoint via HTTP. This communication follows the style of the RESTful API, which specifies a set of rules and formats for data sent over HTTP.\n",
    "\n",
    "TFS takes care of all the complexity here for you"
   ]
  },
  {
   "cell_type": "markdown",
   "id": "13c921d2",
   "metadata": {},
   "source": [
    "Question 3: How do you deploy a model across multiple TF Serving instances?"
   ]
  },
  {
   "cell_type": "code",
   "execution_count": null,
   "id": "4629efe9",
   "metadata": {},
   "outputs": [],
   "source": []
  }
 ],
 "metadata": {
  "kernelspec": {
   "display_name": "Python 3",
   "language": "python",
   "name": "python3"
  },
  "language_info": {
   "codemirror_mode": {
    "name": "ipython",
    "version": 3
   },
   "file_extension": ".py",
   "mimetype": "text/x-python",
   "name": "python",
   "nbconvert_exporter": "python",
   "pygments_lexer": "ipython3",
   "version": "3.8.8"
  }
 },
 "nbformat": 4,
 "nbformat_minor": 5
}

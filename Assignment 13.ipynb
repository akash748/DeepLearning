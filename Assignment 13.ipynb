{
 "cells": [
  {
   "cell_type": "markdown",
   "id": "fa2ab206",
   "metadata": {},
   "source": [
    "Question 1: Why is it generally preferable to use a Logistic Regression classifier rather than a classical Perceptron (i.e., a single layer of linear threshold units trained using the Perceptron training algorithm)? How can you tweak a Perceptron to make it equivalent to a Logistic Regression classifier?"
   ]
  },
  {
   "cell_type": "markdown",
   "id": "51ac6f5b",
   "metadata": {},
   "source": [
    " A classical perceptron will only converge if the data is linearly seperable. It also cannot compute class probabilities. The logistic regression classifier is able to converge on non-linear data and outputs class probabilities.\n",
    "\n",
    "If you want to tweak the Perceptron to make it like a logistic regression classifier you can do so by changing the activation function to the softmax or the sigmoid function and train it using gradient descent, or some other optimization algorithm.\n",
    "\n"
   ]
  },
  {
   "cell_type": "markdown",
   "id": "f29887cb",
   "metadata": {},
   "source": [
    "Question 2: Why was the logistic activation function a key ingredient in training the first MLPs?"
   ]
  },
  {
   "cell_type": "markdown",
   "id": "7f556d97",
   "metadata": {},
   "source": [
    "The logistic activation function is smooth at all points. Therefore, its derivative is always non-zero. This allows gradient descent to find smaller values of theta after each iteration. When the activation function is a step function, gradient descent cannot move at all because there is no slope"
   ]
  },
  {
   "cell_type": "markdown",
   "id": "a5175ca7",
   "metadata": {},
   "source": [
    "Question 3: Name three popular activation functions. Can you draw them?"
   ]
  },
  {
   "cell_type": "markdown",
   "id": "d0e5f938",
   "metadata": {},
   "source": [
    "Three Popular Activation Funnctions are:"
   ]
  },
  {
   "cell_type": "markdown",
   "id": "286170e3",
   "metadata": {},
   "source": [
    "ReLu"
   ]
  },
  {
   "cell_type": "markdown",
   "id": "7c137b0c",
   "metadata": {},
   "source": [
    "<img src = \"image11.png\">"
   ]
  },
  {
   "cell_type": "markdown",
   "id": "5a3edf0b",
   "metadata": {},
   "source": [
    "Tanh"
   ]
  },
  {
   "cell_type": "markdown",
   "id": "e33469a0",
   "metadata": {},
   "source": [
    "<img src = \"image12.png\">"
   ]
  },
  {
   "cell_type": "markdown",
   "id": "5d36b712",
   "metadata": {},
   "source": [
    "ELU"
   ]
  },
  {
   "cell_type": "markdown",
   "id": "8880c185",
   "metadata": {},
   "source": [
    "<img src = \"image 13.png\" >"
   ]
  },
  {
   "cell_type": "markdown",
   "id": "9a456c73",
   "metadata": {},
   "source": [
    "Question 4: Suppose you have an MLP composed of one input layer with 10 passthrough neurons, followed by one hidden layer with 50 artificial neurons, and finally one output layer with 3 artificial neurons. All artificial neurons use the ReLU activation function."
   ]
  },
  {
   "cell_type": "markdown",
   "id": "b3a11628",
   "metadata": {},
   "source": [
    "•\tWhat is the shape of the input matrix X?"
   ]
  },
  {
   "cell_type": "markdown",
   "id": "d11849c3",
   "metadata": {},
   "source": [
    "The shape of X will be (m x 10) where m is the batch size. The logic of a passthrough neuron is that it should have no effect at all on the input layer. Therefore, there must be one neuron for each input feature that allows the input feature to pass through to the next layer without altering its value in any way."
   ]
  },
  {
   "cell_type": "markdown",
   "id": "82748086",
   "metadata": {},
   "source": [
    "•\tWhat about the shape of the hidden layer’s weight vector Wh, and the shape of its bias vector bh?"
   ]
  },
  {
   "cell_type": "markdown",
   "id": "95cc72bc",
   "metadata": {},
   "source": [
    "Since the hidden layer has 50 neurons and there are 10 features, its weight vector will have the shape of 10 x 50. Because each of the 10 features will need to be multiplied by a weight which is connected to each of the 50 hidden layer neurons.\n",
    "\n",
    "The bias vector will have a length of 50. This is because one bias unit is added to the output of the passthrough layer. That unit is then multiplied once for each of the 50 artificial neurons."
   ]
  },
  {
   "cell_type": "markdown",
   "id": "e4b83a40",
   "metadata": {},
   "source": [
    "•\tWhat is the shape of the output layer’s weight vector Wo, and its bias vector bo?"
   ]
  },
  {
   "cell_type": "markdown",
   "id": "f6d593b8",
   "metadata": {},
   "source": [
    "The output layer has 3 neurons. The input to the output layer is the output of the hidden layer.The output of the hidden layer has 50 neurons, therefore the shape of the output layer's weight vector is 50 x 3.\n",
    "\n",
    "The bias vector will have a length of 3 because one bias unit is added to the output of the hidden layer. That unit is then multiplied once for each of the 3 neurons in the output layer."
   ]
  },
  {
   "cell_type": "markdown",
   "id": "98ea330c",
   "metadata": {},
   "source": [
    "•\tWhat is the shape of the network’s output matrix Y?"
   ]
  },
  {
   "cell_type": "markdown",
   "id": "8542566c",
   "metadata": {},
   "source": [
    "The shape of the output matrix is going to be m x 3, where m is the batch size, and 3 because each example will compute a probability that it belongs to one of three classes"
   ]
  },
  {
   "cell_type": "markdown",
   "id": "ae37296a",
   "metadata": {},
   "source": [
    "•\tWrite the equation that computes the network’s output matrix Y as a function of X, Wh, bh, Wo and bo."
   ]
  },
  {
   "cell_type": "markdown",
   "id": "f139046e",
   "metadata": {},
   "source": [
    "Y = (X * Wh + bh) * (Wo + bo)\n",
    "\n",
    "When adding a bias vector to a matrix it is added to every single row. This is called broadcasting."
   ]
  },
  {
   "cell_type": "markdown",
   "id": "acc9ef3e",
   "metadata": {},
   "source": [
    "Question 5: How many neurons do you need in the output layer if you want to classify email into spam or not spam? What activation function should you use in the output layer? If instead you want to tackle MNIST, how many neurons do you need in the output layer, using what activation function?"
   ]
  },
  {
   "cell_type": "markdown",
   "id": "9a7b0dc2",
   "metadata": {},
   "source": [
    "Email classification is a binary classification problem, so you would only need one neuron in the output layer. This neuron would indicate the probability that the email is spam or not spam. You'd most likely use the sigmoid activation function in the output layer.\n",
    "\n",
    "For the MNIST problem you would need 10 output neurons in the final layer, one for each digit. You would then replace the logistic function with the softmax function which can output one probability per class per digit.\n",
    "\n"
   ]
  },
  {
   "cell_type": "markdown",
   "id": "29e375dc",
   "metadata": {},
   "source": [
    "Question 6: What is backpropagation and how does it work? What is the difference between backpropagation and reverse-mode autodiff?"
   ]
  },
  {
   "cell_type": "markdown",
   "id": "02db82e3",
   "metadata": {},
   "source": [
    "Backpropagation is an algorithm used to train neural networks. It first computes the gradients of the cost function with regards to every model parameter then it performs a gradient descent step using these gradients.\n",
    "\n",
    "This backpropagation step is performed until the model parameters converge to values that hopefully minimize the cost function.\n",
    "\n",
    "Backpropagation refers to the whole process of training a neural network. Reverse-mode autodiff is a technique to compute the gradients efficiently. It is used by the backprop algorithm."
   ]
  },
  {
   "cell_type": "markdown",
   "id": "ac7aac53",
   "metadata": {},
   "source": [
    "Question 7: Can you list all the hyperparameters you can tweak in an MLP? If the MLP overfits the training data, how could you tweak these hyperparameters to try to solve the problem?"
   ]
  },
  {
   "cell_type": "markdown",
   "id": "e99725b6",
   "metadata": {},
   "source": [
    "In general, the hyperparameters of a neural network you can adjust are the number of hidden layers, the number of neurons in each hidden layer, and the activation function used by each neuron.\n",
    "\n",
    "For binary classification, use the logistic activation function. For a multi-class problem, use softmax. For a linear regression problem, don't use an activation function.\n",
    "\n",
    "Some simple ways to try and solve overfitting are reducing the number of hidden layers or the number of neurons"
   ]
  },
  {
   "cell_type": "markdown",
   "id": "d813b899",
   "metadata": {},
   "source": [
    "Question 8: Train a deep MLP on the MNIST dataset and see if you can get over 98% precision. "
   ]
  },
  {
   "cell_type": "code",
   "execution_count": 35,
   "id": "af918093",
   "metadata": {},
   "outputs": [],
   "source": [
    "#Importing the Libraries\n",
    "import pandas as pd\n",
    "import numpy as np\n",
    "import matplotlib.pyplot as plt\n",
    "import matplotlib.image as mpimg\n",
    "import seaborn as sns\n",
    "%matplotlib inline\n",
    "\n",
    "\n",
    "\n",
    "from sklearn.model_selection import train_test_split\n",
    "from sklearn.metrics import confusion_matrix\n",
    "import itertools\n",
    "\n",
    "\n",
    "from keras.utils.np_utils import to_categorical # convert to one-hot-encoding\n",
    "from keras.models import Sequential\n",
    "from keras.layers import Dense, Dropout, Flatten, Conv2D, MaxPool2D\n",
    "from tensorflow.keras.optimizers import Adam\n",
    "from keras.preprocessing.image import ImageDataGenerator\n"
   ]
  },
  {
   "cell_type": "code",
   "execution_count": 36,
   "id": "7c86e954",
   "metadata": {},
   "outputs": [],
   "source": [
    "#Loading the MNIST Dataset\n",
    "from tensorflow.keras.datasets import mnist\n",
    "(x_train, y_train), (x_test, y_test) = mnist.load_data()"
   ]
  },
  {
   "cell_type": "code",
   "execution_count": 37,
   "id": "1ab1d14b",
   "metadata": {},
   "outputs": [
    {
     "data": {
      "text/plain": [
       "<matplotlib.image.AxesImage at 0x27aa417e580>"
      ]
     },
     "execution_count": 37,
     "metadata": {},
     "output_type": "execute_result"
    },
    {
     "data": {
      "image/png": "[encoded data removed]",
      "text/plain": [
       "<Figure size 432x288 with 1 Axes>"
      ]
     },
     "metadata": {
      "needs_background": "light"
     },
     "output_type": "display_data"
    }
   ],
   "source": [
    "#Lets look at the image\n",
    "plt.imshow(x_train[0])"
   ]
  },
  {
   "cell_type": "code",
   "execution_count": 38,
   "id": "22ea9eac",
   "metadata": {},
   "outputs": [],
   "source": [
    "# Normalize the data\n",
    "x_train = x_train / 255.0\n",
    "x_test = x_test / 255.0"
   ]
  },
  {
   "cell_type": "code",
   "execution_count": 39,
   "id": "1a911911",
   "metadata": {},
   "outputs": [
    {
     "data": {
      "text/plain": [
       "<matplotlib.image.AxesImage at 0x27aa41d23a0>"
      ]
     },
     "execution_count": 39,
     "metadata": {},
     "output_type": "execute_result"
    },
    {
     "data": {
      "image/png": "[encoded data removed]",
      "text/plain": [
       "<Figure size 432x288 with 1 Axes>"
      ]
     },
     "metadata": {
      "needs_background": "light"
     },
     "output_type": "display_data"
    }
   ],
   "source": [
    "#Lets look at the image\n",
    "plt.imshow(x_test[0])"
   ]
  },
  {
   "cell_type": "code",
   "execution_count": 40,
   "id": "b36f1e38",
   "metadata": {},
   "outputs": [],
   "source": [
    "# Reshape image in 3 dimensions (height = 28px, width = 28px , channel = 1)\n",
    "x_train = x_train.reshape(-1,28,28,1)\n",
    "x_test = x_test.reshape(-1,28,28,1)"
   ]
  },
  {
   "cell_type": "code",
   "execution_count": 41,
   "id": "63e72168",
   "metadata": {},
   "outputs": [
    {
     "data": {
      "text/plain": [
       "(60000, 28, 28, 1)"
      ]
     },
     "execution_count": 41,
     "metadata": {},
     "output_type": "execute_result"
    }
   ],
   "source": [
    "x_train.shape"
   ]
  },
  {
   "cell_type": "code",
   "execution_count": 42,
   "id": "6e7d80f7",
   "metadata": {},
   "outputs": [
    {
     "name": "stdout",
     "output_type": "stream",
     "text": [
      "Model: \"sequential_3\"\n",
      "_________________________________________________________________\n",
      "Layer (type)                 Output Shape              Param #   \n",
      "=================================================================\n",
      "conv2d_12 (Conv2D)           (None, 28, 28, 32)        832       \n",
      "_________________________________________________________________\n",
      "conv2d_13 (Conv2D)           (None, 28, 28, 32)        25632     \n",
      "_________________________________________________________________\n",
      "max_pooling2d_6 (MaxPooling2 (None, 14, 14, 32)        0         \n",
      "_________________________________________________________________\n",
      "dropout_9 (Dropout)          (None, 14, 14, 32)        0         \n",
      "_________________________________________________________________\n",
      "conv2d_14 (Conv2D)           (None, 14, 14, 64)        18496     \n",
      "_________________________________________________________________\n",
      "conv2d_15 (Conv2D)           (None, 14, 14, 64)        36928     \n",
      "_________________________________________________________________\n",
      "max_pooling2d_7 (MaxPooling2 (None, 7, 7, 64)          0         \n",
      "_________________________________________________________________\n",
      "dropout_10 (Dropout)         (None, 7, 7, 64)          0         \n",
      "_________________________________________________________________\n",
      "flatten_3 (Flatten)          (None, 3136)              0         \n",
      "_________________________________________________________________\n",
      "dense_6 (Dense)              (None, 256)               803072    \n",
      "_________________________________________________________________\n",
      "dropout_11 (Dropout)         (None, 256)               0         \n",
      "_________________________________________________________________\n",
      "dense_7 (Dense)              (None, 10)                2570      \n",
      "=================================================================\n",
      "Total params: 887,530\n",
      "Trainable params: 887,530\n",
      "Non-trainable params: 0\n",
      "_________________________________________________________________\n"
     ]
    }
   ],
   "source": [
    "# Set the CNN model \n",
    "# my CNN architechture is In -> [[Conv2D->relu]*2 -> MaxPool2D -> Dropout]*2 -> Flatten -> Dense -> Dropout -> Out\n",
    "\n",
    "model = Sequential()\n",
    "\n",
    "model.add(Conv2D(filters = 32, kernel_size = (5,5),padding = 'Same', \n",
    "                 activation ='relu', input_shape = (28,28,1)))\n",
    "model.add(Conv2D(filters = 32, kernel_size = (5,5),padding = 'Same', \n",
    "                 activation ='relu'))\n",
    "model.add(MaxPool2D(pool_size=(2,2)))\n",
    "model.add(Dropout(0.25))\n",
    "\n",
    "\n",
    "model.add(Conv2D(filters = 64, kernel_size = (3,3),padding = 'Same', \n",
    "                 activation ='relu'))\n",
    "model.add(Conv2D(filters = 64, kernel_size = (3,3),padding = 'Same', \n",
    "                 activation ='relu'))\n",
    "model.add(MaxPool2D(pool_size=(2,2), strides=(2,2)))\n",
    "model.add(Dropout(0.25))\n",
    "\n",
    "\n",
    "model.add(Flatten())\n",
    "model.add(Dense(256, activation = \"relu\"))\n",
    "model.add(Dropout(0.5))\n",
    "model.add(Dense(10, activation = \"softmax\"))\n",
    "model.summary()"
   ]
  },
  {
   "cell_type": "code",
   "execution_count": 43,
   "id": "3af382f4",
   "metadata": {},
   "outputs": [],
   "source": [
    "model.compile(optimizer = 'adam' , loss = \"sparse_categorical_crossentropy\", metrics=[\"accuracy\"])"
   ]
  },
  {
   "cell_type": "code",
   "execution_count": 44,
   "id": "8ae6d3ff",
   "metadata": {},
   "outputs": [
    {
     "name": "stdout",
     "output_type": "stream",
     "text": [
      "Epoch 1/10\n",
      "600/600 [==============================] - 136s 224ms/step - loss: 0.2065 - accuracy: 0.9351\n",
      "Epoch 2/10\n",
      "600/600 [==============================] - 141s 235ms/step - loss: 0.0692 - accuracy: 0.9794\n",
      "Epoch 3/10\n",
      "600/600 [==============================] - 140s 233ms/step - loss: 0.0492 - accuracy: 0.9852\n",
      "Epoch 4/10\n",
      "600/600 [==============================] - 130s 217ms/step - loss: 0.0424 - accuracy: 0.9875\n",
      "Epoch 5/10\n",
      "600/600 [==============================] - 130s 216ms/step - loss: 0.0364 - accuracy: 0.9891\n",
      "Epoch 6/10\n",
      "600/600 [==============================] - 129s 215ms/step - loss: 0.0335 - accuracy: 0.9897\n",
      "Epoch 7/10\n",
      "600/600 [==============================] - 128s 214ms/step - loss: 0.0284 - accuracy: 0.9913\n",
      "Epoch 8/10\n",
      "600/600 [==============================] - 129s 215ms/step - loss: 0.0272 - accuracy: 0.9918\n",
      "Epoch 9/10\n",
      "600/600 [==============================] - 132s 219ms/step - loss: 0.0237 - accuracy: 0.9922\n",
      "Epoch 10/10\n",
      "600/600 [==============================] - 131s 218ms/step - loss: 0.0233 - accuracy: 0.9926\n"
     ]
    },
    {
     "data": {
      "text/plain": [
       "<keras.callbacks.History at 0x27aa42393d0>"
      ]
     },
     "execution_count": 44,
     "metadata": {},
     "output_type": "execute_result"
    }
   ],
   "source": [
    "model.fit(x_train,y_train,epochs = 10,batch_size = 100)"
   ]
  },
  {
   "cell_type": "code",
   "execution_count": 45,
   "id": "4112a641",
   "metadata": {},
   "outputs": [
    {
     "data": {
      "text/plain": [
       "[0.017964771017432213, 0.994700014591217]"
      ]
     },
     "execution_count": 45,
     "metadata": {},
     "output_type": "execute_result"
    }
   ],
   "source": [
    "model.evaluate(x_test, y_test, verbose=0)"
   ]
  },
  {
   "cell_type": "code",
   "execution_count": null,
   "id": "9cf6c06f",
   "metadata": {},
   "outputs": [],
   "source": []
  }
 ],
 "metadata": {
  "kernelspec": {
   "display_name": "Python 3",
   "language": "python",
   "name": "python3"
  },
  "language_info": {
   "codemirror_mode": {
    "name": "ipython",
    "version": 3
   },
   "file_extension": ".py",
   "mimetype": "text/x-python",
   "name": "python",
   "nbconvert_exporter": "python",
   "pygments_lexer": "ipython3",
   "version": "3.8.8"
  }
 },
 "nbformat": 4,
 "nbformat_minor": 5
}

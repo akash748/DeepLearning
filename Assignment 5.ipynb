{
 "cells": [
  {
   "cell_type": "markdown",
   "id": "0f6af550",
   "metadata": {},
   "source": [
    "Question 1: Why would you want to use the Data API?"
   ]
  },
  {
   "cell_type": "markdown",
   "id": "764edb63",
   "metadata": {},
   "source": [
    "The whole Data API revolves around the concept of a dataset: as you might suspect,\n",
    "this represents a sequence of data items. Usually you will use datasets that gradually\n",
    "read data from disk."
   ]
  },
  {
   "cell_type": "markdown",
   "id": "ba1b2630",
   "metadata": {},
   "source": [
    "Data API can read from text files (such as CSV files), binary files\n",
    "with fixed-size records, and binary files that use TensorFlow’s TFRecord format,\n",
    "which supports records of varying sizes. TFRecord is a flexible and efficient binary\n",
    "format based on Protocol Buffers (an open source binary format). The Data API also\n",
    "has support for reading from SQL databases. Moreover, many Open Source exten‐\n",
    "sions are available to read from all sorts of data sources, such as Google’s BigQuery\n",
    "service"
   ]
  },
  {
   "cell_type": "markdown",
   "id": "bf925bf0",
   "metadata": {},
   "source": [
    "Question 2: What are the benefits of splitting a large dataset into multiple files?"
   ]
  },
  {
   "cell_type": "markdown",
   "id": "84a6c060",
   "metadata": {},
   "source": [
    "For a large dataset that does not fit in memory splutting it into multiple files will help and introduce more randomness in the dataset and reduce bias and help the data train in multiple batches."
   ]
  },
  {
   "cell_type": "markdown",
   "id": "639cc798",
   "metadata": {},
   "source": [
    "Question 3: During training, how can you tell that your input pipeline is the bottleneck? What can you do to fix it?"
   ]
  },
  {
   "cell_type": "markdown",
   "id": "a3a4a544",
   "metadata": {},
   "source": [
    "The input pipeline is a bottleneck when we have difficulty loading large data files.\n",
    "We can break the data into multiple files and shuffle the files to create more robust models."
   ]
  },
  {
   "cell_type": "markdown",
   "id": "1313b5be",
   "metadata": {},
   "source": [
    "Question 4: Can you save any binary data to a TFRecord file, or only serialized protocol buffers?"
   ]
  },
  {
   "cell_type": "markdown",
   "id": "7417d2b8",
   "metadata": {},
   "source": [
    "Yes we can save any binary data to TFRecord File or serialized protocol buffers."
   ]
  },
  {
   "cell_type": "markdown",
   "id": "58b65734",
   "metadata": {},
   "source": [
    "Question 5: Why would you go through the hassle of converting all your data to the Example protobuf format? Why not use your own protobuf definition?"
   ]
  },
  {
   "cell_type": "markdown",
   "id": "8e08b113",
   "metadata": {},
   "source": [
    "TensorFlow may one\n",
    "day decide to add more fields to it. As long as the new Example definition still contains the features field,\n",
    "with the same id, it will be backward compatible. This extensibility is one of the great features of protobufs. It also provides more efficient encoding."
   ]
  },
  {
   "cell_type": "markdown",
   "id": "ff676556",
   "metadata": {},
   "source": [
    "Question 6: When using TFRecords, when would you want to activate compression? "
   ]
  },
  {
   "cell_type": "markdown",
   "id": "1046493a",
   "metadata": {},
   "source": [
    "It can sometimes be useful to compress your TFRecord files, especially if they need to\n",
    "be loaded via a network connection."
   ]
  },
  {
   "cell_type": "code",
   "execution_count": null,
   "id": "7fd91a20",
   "metadata": {},
   "outputs": [],
   "source": []
  }
 ],
 "metadata": {
  "kernelspec": {
   "display_name": "Python 3",
   "language": "python",
   "name": "python3"
  },
  "language_info": {
   "codemirror_mode": {
    "name": "ipython",
    "version": 3
   },
   "file_extension": ".py",
   "mimetype": "text/x-python",
   "name": "python",
   "nbconvert_exporter": "python",
   "pygments_lexer": "ipython3",
   "version": "3.8.8"
  }
 },
 "nbformat": 4,
 "nbformat_minor": 5
}
